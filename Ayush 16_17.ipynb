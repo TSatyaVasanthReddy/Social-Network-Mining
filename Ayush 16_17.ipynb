{
 "cells": [
  {
   "cell_type": "code",
   "execution_count": 2,
   "metadata": {},
   "outputs": [
    {
     "name": "stderr",
     "output_type": "stream",
     "text": [
      "\n",
      "Attaching package: 'igraph'\n",
      "\n",
      "The following objects are masked from 'package:stats':\n",
      "\n",
      "    decompose, spectrum\n",
      "\n",
      "The following object is masked from 'package:base':\n",
      "\n",
      "    union\n",
      "\n"
     ]
    }
   ],
   "source": [
    "library(igraph)"
   ]
  },
  {
   "cell_type": "code",
   "execution_count": 123,
   "metadata": {},
   "outputs": [],
   "source": [
    "g = read_graph(file = 'facebook_combined.txt',format = c(\"edgelist\"),directed=FALSE)\n",
    "g$names = V(g)\n",
    "core_nodes= c(1,108,349,484,1087)\n",
    "\n",
    "###Defining Subgraph for Node 415\n",
    "id = 415\n",
    "g1 = induced.subgraph(g, c(id, neighbors(g,id)))\n",
    "Nr= which(degree(g1) == 24)\n",
    "\n",
    "\n",
    "\n",
    "###Defining all three measures\n",
    "CommonNeighbors = function(i,j,g)\n",
    "{\n",
    "    Si = neighbors(g, i)\n",
    "    Sj = neighbors(g, j)\n",
    "    return(length(intersection(Si,Sj)))\n",
    "}\n",
    "\n",
    "\n",
    "Jaccard = function(i,j,g)\n",
    "{\n",
    "    Si = neighbors(g, i)\n",
    "    Sj = neighbors(g, j)\n",
    "    common = intersection(Si,Sj)\n",
    "    Union = union(Si,Sj)\n",
    "    if(length(Union) == 0) return(0)\n",
    "    else return(length(common) * (1 / length(Union)))\n",
    "}\n",
    "\n",
    "\n",
    "AdamicAdar = function(i,j,g)\n",
    "{\n",
    "    Si = neighbors(g, i)\n",
    "    Sj = neighbors(g, j)\n",
    "    common = intersection(Si,Sj)\n",
    "    sum = 0\n",
    "    for(k in common){\n",
    "        sum = sum + (1 / log(length(neighbors(g, k)))) \n",
    "    }\n",
    "    return(sum)\n",
    "}\n",
    "\n",
    "\n",
    "accuracy_score = function(P, R)\n",
    "{\n",
    "    if(length(R) == 0) return(0)\n",
    "    else return(length(intersect(P,R)) * (1 / length(R)))\n",
    "}\n",
    "\n",
    "computeMeasure = function(graph_,count, type)\n",
    "{\n",
    "        graph_$names = V(graph_)\n",
    "        neigh = neighbors(graph = graph_,v = userNode)\n",
    "        disp_graph = delete.vertices(graph_, neigh)\n",
    "        disp_graph$names = sort(which(!(graph_$names %in% neigh)))\n",
    "        commonNeigh = c()\n",
    "        jaccardMeasure = c()\n",
    "        AdamicMeasure = c()\n",
    "        for(i in c(1:vcount(disp_graph))){\n",
    "            commonNeigh = c(commonNeigh, CommonNeighbors(userNode,disp_graph$names[i],graph_))\n",
    "            jaccardMeasure = c(jaccardMeasure, Jaccard(userNode,disp_graph$names[i],graph_))\n",
    "            AdamicMeasure = c(AdamicMeasure, AdamicAdar(userNode,disp_graph$names[i],graph_))\n",
    "        }\n",
    "        \n",
    "        commonNeigh = order(commonNeigh, decreasing = TRUE)\n",
    "        jaccardMeasure = order(jaccardMeasure, decreasing = TRUE)\n",
    "        AdamicMeasure = order(AdamicMeasure, decreasing = TRUE)\n",
    "        \n",
    "        \n",
    "        if(type ==1)\n",
    "            return (c(disp_graph$names[commonNeigh[1:count]]))\n",
    "        if(type == 2)\n",
    "            return (c(disp_graph$names[jaccardMeasure[1:count]]))\n",
    "        if(type == 3)\n",
    "            return (c(disp_graph$names[AdamicMeasure[1:count]]))\n",
    "\n",
    "}"
   ]
  },
  {
   "cell_type": "code",
   "execution_count": 127,
   "metadata": {},
   "outputs": [
    {
     "name": "stdout",
     "output_type": "stream",
     "text": [
      "[1] \"|NR| =\"\n",
      "[1] 11\n"
     ]
    }
   ],
   "source": [
    "print(\"|NR| =\")\n",
    "print(length(Nr))"
   ]
  },
  {
   "cell_type": "code",
   "execution_count": null,
   "metadata": {},
   "outputs": [],
   "source": [
    "id = 415\n",
    "g1 = induced.subgraph(g, c(id, neighbors(g,id)))\n",
    "Nr= which(degree(g1) == 24)\n",
    "resC = c()\n",
    "resJ = c()\n",
    "resA = c()\n",
    "for(userNode in Nr)\n",
    "{\n",
    "    for(counter in 1:10){\n",
    "    g_new = g1\n",
    "    e = E(g_new)[ from(userNode) ]\n",
    "    \n",
    "    deleted_edges = 0\n",
    "    edges_delete = c()\n",
    "    deleted_friend = c()\n",
    "    for(i in 1:length(e)){\n",
    "        randNum = sample(100,size = 1)\n",
    "        if(randNum <= 25){\n",
    "            edges_delete = c(edges_delete,e[i])\n",
    "            deleted_friend = c(deleted_friend,ends(g_new,e[i])[which(ends(g_new,e[i]) != userNode)])\n",
    "        }\n",
    "    }\n",
    "    deleted_edges = length(edges_delete)\n",
    "    \n",
    "    g_new = delete_edges(g_new, edges_delete)\n",
    "    resultC = computeMeasure(g_new, deleted_edges,1)\n",
    "    resultJ = computeMeasure(g_new, deleted_edges,2)\n",
    "    resultA = computeMeasure(g_new, deleted_edges,3)\n",
    "    \n",
    "    resultC = accuracy_score(resultC,deleted_friend)\n",
    "    resultJ = accuracy_score(resultJ,deleted_friend)\n",
    "    resultA = accuracy_score(resultA,deleted_friend)\n",
    "    resC = c(resC,resultC)\n",
    "    resJ = c(resJ,resultJ)\n",
    "    resA = c(resA,resultA)\n",
    "    }\n",
    "}\n",
    "print(mean(resC))\n",
    "print(mean(resJ))\n",
    "print(mean(resA))\n"
   ]
  },
  {
   "cell_type": "code",
   "execution_count": null,
   "metadata": {},
   "outputs": [],
   "source": []
  },
  {
   "cell_type": "code",
   "execution_count": null,
   "metadata": {},
   "outputs": [],
   "source": []
  }
 ],
 "metadata": {
  "kernelspec": {
   "display_name": "R",
   "language": "R",
   "name": "ir"
  },
  "language_info": {
   "codemirror_mode": "r",
   "file_extension": ".r",
   "mimetype": "text/x-r-source",
   "name": "R",
   "pygments_lexer": "r",
   "version": "3.4.4"
  }
 },
 "nbformat": 4,
 "nbformat_minor": 2
}
